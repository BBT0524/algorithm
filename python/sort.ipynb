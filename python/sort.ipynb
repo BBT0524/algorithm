{
 "cells": [
  {
   "cell_type": "markdown",
   "metadata": {},
   "source": [
    "# 排序\n",
    "- 冒泡排序\n",
    "- 插入排序\n",
    "- 快速排序\n",
    "- 归并排序\n",
    "- 选择排序\n",
    "- 插入排序\n",
    "- 测试pandas的排序性能"
   ]
  },
  {
   "cell_type": "code",
   "execution_count": 2,
   "metadata": {},
   "outputs": [],
   "source": [
    "from typing import List"
   ]
  },
  {
   "cell_type": "markdown",
   "metadata": {},
   "source": [
    "## 冒泡排序"
   ]
  },
  {
   "cell_type": "code",
   "execution_count": 4,
   "metadata": {},
   "outputs": [
    {
     "data": {
      "text/plain": [
       "[0, 1, 2, 3, 4, 5]"
      ]
     },
     "execution_count": 4,
     "metadata": {},
     "output_type": "execute_result"
    }
   ],
   "source": [
    "# -1- 冒泡排序：n个数\n",
    "# 冒泡排序(升序)：遍历一次，比较相邻的两个数，将大数交换到大端；共遍历n-1次。\n",
    "# 适用场景：大部分有序（尤其适合完全有序）的序列，\n",
    "#          只需要遍历几次就能排好序的情况\n",
    "def bubble_sort(a: List[int]):\n",
    "    # 初始化交换标志为真\n",
    "    made_swap = True\n",
    "    # 控制遍历的次数\n",
    "    passnum = len(a) - 1   \n",
    "    # 如果没有交换发生，则说明序列有序，故停止交换\n",
    "    while passnum > 0 and made_swap:\n",
    "        made_swap = False\n",
    "        # 一轮遍历比较\n",
    "        for i in range(passnum):\n",
    "            if a[i] > a[i+1]:\n",
    "                made_swap = True\n",
    "                a[i], a[i+1] = a[i+1], a[i]\n",
    "        # 进入下一轮遍历\n",
    "        passnum = passnum - 1\n",
    "            \n",
    "a = [3, 2, 5, 4, 1, 0]\n",
    "bubble_sort(a)\n",
    "a"
   ]
  },
  {
   "cell_type": "markdown",
   "metadata": {},
   "source": [
    "冒泡：[3, 2, 5, 4, 1, 0]的过程\n",
    "1. [2,3,4,1,0,5]\n",
    "2. [2,3,1,0,4,5]\n",
    "3. [2,1,0,3,4,5]\n",
    "4. [1,0,2,3,4,5]\n",
    "5. [0,1,2,3,4,5]"
   ]
  },
  {
   "cell_type": "markdown",
   "metadata": {},
   "source": [
    "## 选择排序\n",
    "是在冒泡排序的基础上的改进，改进点是“每次遍历只交换一次”。同冒泡排序一样，第一次遍历完，最大值排到对应的位置，第二次遍历完，第二大值放到了对应的位置。即大端都是有序的。"
   ]
  },
  {
   "cell_type": "code",
   "execution_count": 4,
   "metadata": {},
   "outputs": [
    {
     "data": {
      "text/plain": [
       "[0, 1, 2, 3, 4, 5]"
      ]
     },
     "execution_count": 4,
     "metadata": {},
     "output_type": "execute_result"
    }
   ],
   "source": [
    "# -2- 选择排序\n",
    "def  select_sort(a: List[int]):\n",
    "    # 大端是有序的，故可以递减遍历范围\n",
    "    for i in range(len(a)-1, 0, -1):\n",
    "        max_pos = 0\n",
    "        for j in range(1,i+1):    # -> 与下一个数比较，故从1开始\n",
    "            if a[j] > a[max_pos]:\n",
    "                max_pos = j\n",
    "        # 交换\n",
    "        a[i], a[max_pos] = a[max_pos], a[i]\n",
    "# 测试这个函数\n",
    "a = [3, 2, 5, 4, 1, 0]\n",
    "select_sort(a)\n",
    "a"
   ]
  },
  {
   "cell_type": "markdown",
   "metadata": {},
   "source": [
    "## 插入排序"
   ]
  },
  {
   "cell_type": "code",
   "execution_count": 34,
   "metadata": {},
   "outputs": [
    {
     "data": {
      "text/plain": [
       "[0, 1, 2, 3, 4, 5]"
      ]
     },
     "execution_count": 34,
     "metadata": {},
     "output_type": "execute_result"
    }
   ],
   "source": [
    "# -2- 插入排序\n",
    "# cur上的元素要都大于前面，否则是无序，\n",
    "# 则将cur前面的元素后移，把cur插到合适的位置上\n",
    "def insertion_sort(a: List[int]):\n",
    "    len_a = len(a)\n",
    "    if len_a <= 1:\n",
    "        return\n",
    "    \n",
    "    # i : 遍历a中每一个元素\n",
    "    for i in range(1, len_a):  # -> 只有a[0]时，有序，不需要排序\n",
    "        cur = a[i]\n",
    "        j = i                  # -> 确定cur的合适位置\n",
    "        # cur 小于前面的元素时，将前面元素后移\n",
    "        while j > 0 and cur < a[j-1]:\n",
    "            a[j] = a[j-1]\n",
    "            j -= 1\n",
    "        a[j] = cur        \n",
    "# 测试这个函数\n",
    "a = [3, 2, 5, 4, 1, 0]\n",
    "insertion_sort(a)\n",
    "a"
   ]
  },
  {
   "cell_type": "markdown",
   "metadata": {},
   "source": [
    "## 快速排序"
   ]
  },
  {
   "cell_type": "code",
   "execution_count": 35,
   "metadata": {},
   "outputs": [
    {
     "data": {
      "text/plain": [
       "[0, 1, 2, 3]"
      ]
     },
     "execution_count": 35,
     "metadata": {},
     "output_type": "execute_result"
    }
   ],
   "source": [
    "import random\n",
    "def qsort(a: List[int]):\n",
    "    _qsort(a, 0, len(a)-1)\n",
    "\n",
    "def _qsort(a: List[int], low: int, high: int):\n",
    "    if low < high:\n",
    "        # 指定pivot：使用随机下标作为主元位置:k\n",
    "#         k = random.randint(low, high)\n",
    "        # 指定pivot：使用每个子序列的第一个值\n",
    "#         k = low\n",
    "        # 指定pivot：使用中位数，取子序列的队首、\n",
    "        # 队尾和对中共三个元素，对这三个元素取中\n",
    "        if high - low > 10:\n",
    "            k = random.randint(low+1, high-1)\n",
    "            _tmp = [low, high, k]\n",
    "            # 对_tlist插入排序确定中位数\n",
    "            for _i in range(1, len(_tmp)):\n",
    "                _cur = _tmp[_i]\n",
    "                _j = _i\n",
    "                while _j > 0 and _tmp[_j-1] > _cur:\n",
    "                    _tmp[j] = _tmp[j-1]\n",
    "                    j -= 1\n",
    "                _tmp[_j] = _cur\n",
    "            # k取中位数的下标\n",
    "            k = _tmp[1]\n",
    "        else:\n",
    "            k = random.randint(low, high)\n",
    "            \n",
    "        a[low], a[k] = a[k], a[low]\n",
    "        \n",
    "        # a[p]是pivot：事先指定\n",
    "        ## 分和治都在parttition中处理\n",
    "        p = _partition(a, low, high)\n",
    "        _qsort(a, low, p-1)\n",
    "        _qsort(a, p+1, high)\n",
    "\n",
    "def _partition(a: List[int], low:int, high:int):\n",
    "    \"\"\"将事先指定的pivot放在它应该在的位置pi上，并返回pi\"\"\"\n",
    "    # 使用第一个值作为主元\n",
    "    pivot, pi = a[low], low\n",
    "    for i in range(low + 1, high + 1): \n",
    "                            # -> 从主元的下一个值开始\n",
    "        if a[i] <= pivot:   \n",
    "            pi += 1  \n",
    "            a[pi], a[i] = a[i], a[pi]\n",
    "#             print(a[pi]==a[i])\n",
    "            \n",
    "    # -> 维护主元的定义， 包含第一个位置在内[low:]全范围\n",
    "    a[low], a[pi] = a[pi], a[low]\n",
    "    return pi\n",
    "# 测试这个函数\n",
    "s = [2,1,0,3]\n",
    "qsort(s)\n",
    "s\n",
    "# 排序过程: 主元是第一个位置\n",
    "# -1- parttiion(a,0,3) ： pi = 0, pivot = a[0], a[low]=a[0]\n",
    "\n",
    "    ##     [2,1,0,3]-(a[i=1] <= a[0], pi=1)->\n",
    "    ##     [2,1,0,3]-(a[i=2] <= a[0], pi=2)->\n",
    "    ##     [2,1,0,3]-(a[i=3] !<= a[0], pi=2)->\n",
    "    ##     [0,1,2,3] (a[low]=a[2], a[pi] = a[0])\n",
    "    ##     return pi = 2  => a = [0,1,2,3]\n",
    "        ###     partition(a,0,2-1)\n",
    "        ###     return pi = 0 => a = [0,1,2,3]\n",
    "            ####     partition(a,0,0-1) => 不满足递归条件\n",
    "        ###     partition(a,2+1,3)  => 不满足递归条件\n",
    "    \n",
    "    \n",
    "    ## -2- partition(a,0,1): pi = 0, pivot = a[0], a[low]=a[0]\n",
    "            ##     [0,1] -([i=1] !<= a[0], pi=0)-> \n",
    "            ##     [0,1] (a[low]=a[0], a[pi] = a[0])\n",
    "            ##     return 0 "
   ]
  }
 ],
 "metadata": {
  "kernelspec": {
   "display_name": "Python 3",
   "language": "python",
   "name": "python3"
  },
  "language_info": {
   "codemirror_mode": {
    "name": "ipython",
    "version": 3
   },
   "file_extension": ".py",
   "mimetype": "text/x-python",
   "name": "python",
   "nbconvert_exporter": "python",
   "pygments_lexer": "ipython3",
   "version": "3.7.9"
  },
  "toc": {
   "base_numbering": 1,
   "nav_menu": {},
   "number_sections": true,
   "sideBar": true,
   "skip_h1_title": false,
   "title_cell": "Table of Contents",
   "title_sidebar": "Contents",
   "toc_cell": false,
   "toc_position": {},
   "toc_section_display": true,
   "toc_window_display": true
  },
  "varInspector": {
   "cols": {
    "lenName": 16,
    "lenType": 16,
    "lenVar": 40
   },
   "kernels_config": {
    "python": {
     "delete_cmd_postfix": "",
     "delete_cmd_prefix": "del ",
     "library": "var_list.py",
     "varRefreshCmd": "print(var_dic_list())"
    },
    "r": {
     "delete_cmd_postfix": ") ",
     "delete_cmd_prefix": "rm(",
     "library": "var_list.r",
     "varRefreshCmd": "cat(var_dic_list()) "
    }
   },
   "types_to_exclude": [
    "module",
    "function",
    "builtin_function_or_method",
    "instance",
    "_Feature"
   ],
   "window_display": false
  }
 },
 "nbformat": 4,
 "nbformat_minor": 4
}
